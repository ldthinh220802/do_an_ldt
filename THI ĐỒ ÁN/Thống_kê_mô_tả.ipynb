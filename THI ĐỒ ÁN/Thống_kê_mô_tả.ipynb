{
  "nbformat": 4,
  "nbformat_minor": 0,
  "metadata": {
    "colab": {
      "name": "Thống kê mô tả.ipynb",
      "provenance": [],
      "collapsed_sections": []
    },
    "kernelspec": {
      "name": "python3",
      "display_name": "Python 3"
    },
    "language_info": {
      "name": "python"
    }
  },
  "cells": [
    {
      "cell_type": "code",
      "metadata": {
        "id": "FRo8mcX-E3Gj"
      },
      "source": [
        "import numpy as np\n",
        "import pandas as pd\n",
        "from scipy import stats\n",
        "import seaborn as sns\n",
        "from matplotlib import pyplot as plt\n",
        "import statsmodels.api as sm"
      ],
      "execution_count": null,
      "outputs": []
    },
    {
      "cell_type": "code",
      "metadata": {
        "id": "2tc2y08BFCz8"
      },
      "source": [
        "\n",
        "df = pd.read_csv('Inc_Exp_Data.csv')"
      ],
      "execution_count": null,
      "outputs": []
    },
    {
      "cell_type": "code",
      "metadata": {
        "colab": {
          "base_uri": "https://localhost:8080/",
          "height": 357
        },
        "id": "GOQSbOxAFH4K",
        "outputId": "5fee61c3-b498-4692-d7bb-60146a72ee03"
      },
      "source": [
        "df.sample(10)"
      ],
      "execution_count": null,
      "outputs": [
        {
          "output_type": "execute_result",
          "data": {
            "text/html": [
              "<div>\n",
              "<style scoped>\n",
              "    .dataframe tbody tr th:only-of-type {\n",
              "        vertical-align: middle;\n",
              "    }\n",
              "\n",
              "    .dataframe tbody tr th {\n",
              "        vertical-align: top;\n",
              "    }\n",
              "\n",
              "    .dataframe thead th {\n",
              "        text-align: right;\n",
              "    }\n",
              "</style>\n",
              "<table border=\"1\" class=\"dataframe\">\n",
              "  <thead>\n",
              "    <tr style=\"text-align: right;\">\n",
              "      <th></th>\n",
              "      <th>Mthly_HH_Income</th>\n",
              "      <th>Mthly_HH_Expense</th>\n",
              "      <th>No_of_Fly_Members</th>\n",
              "      <th>Emi_or_Rent_Amt</th>\n",
              "      <th>Annual_HH_Income</th>\n",
              "      <th>Highest_Qualified_Member</th>\n",
              "      <th>No_of_Earning_Members</th>\n",
              "    </tr>\n",
              "  </thead>\n",
              "  <tbody>\n",
              "    <tr>\n",
              "      <th>15</th>\n",
              "      <td>25000</td>\n",
              "      <td>12300</td>\n",
              "      <td>3</td>\n",
              "      <td>0</td>\n",
              "      <td>246000</td>\n",
              "      <td>Graduate</td>\n",
              "      <td>1</td>\n",
              "    </tr>\n",
              "    <tr>\n",
              "      <th>34</th>\n",
              "      <td>46000</td>\n",
              "      <td>25000</td>\n",
              "      <td>5</td>\n",
              "      <td>3500</td>\n",
              "      <td>596160</td>\n",
              "      <td>Graduate</td>\n",
              "      <td>1</td>\n",
              "    </tr>\n",
              "    <tr>\n",
              "      <th>36</th>\n",
              "      <td>50000</td>\n",
              "      <td>20000</td>\n",
              "      <td>4</td>\n",
              "      <td>0</td>\n",
              "      <td>570000</td>\n",
              "      <td>Professional</td>\n",
              "      <td>1</td>\n",
              "    </tr>\n",
              "    <tr>\n",
              "      <th>1</th>\n",
              "      <td>6000</td>\n",
              "      <td>7000</td>\n",
              "      <td>2</td>\n",
              "      <td>3000</td>\n",
              "      <td>79920</td>\n",
              "      <td>Illiterate</td>\n",
              "      <td>1</td>\n",
              "    </tr>\n",
              "    <tr>\n",
              "      <th>8</th>\n",
              "      <td>19000</td>\n",
              "      <td>9000</td>\n",
              "      <td>2</td>\n",
              "      <td>0</td>\n",
              "      <td>218880</td>\n",
              "      <td>Under-Graduate</td>\n",
              "      <td>1</td>\n",
              "    </tr>\n",
              "    <tr>\n",
              "      <th>32</th>\n",
              "      <td>45000</td>\n",
              "      <td>10000</td>\n",
              "      <td>2</td>\n",
              "      <td>1000</td>\n",
              "      <td>437400</td>\n",
              "      <td>Post-Graduate</td>\n",
              "      <td>1</td>\n",
              "    </tr>\n",
              "    <tr>\n",
              "      <th>10</th>\n",
              "      <td>20000</td>\n",
              "      <td>18000</td>\n",
              "      <td>4</td>\n",
              "      <td>8000</td>\n",
              "      <td>278400</td>\n",
              "      <td>Under-Graduate</td>\n",
              "      <td>2</td>\n",
              "    </tr>\n",
              "    <tr>\n",
              "      <th>35</th>\n",
              "      <td>47000</td>\n",
              "      <td>15000</td>\n",
              "      <td>7</td>\n",
              "      <td>0</td>\n",
              "      <td>456840</td>\n",
              "      <td>Professional</td>\n",
              "      <td>4</td>\n",
              "    </tr>\n",
              "    <tr>\n",
              "      <th>41</th>\n",
              "      <td>65000</td>\n",
              "      <td>20000</td>\n",
              "      <td>4</td>\n",
              "      <td>5000</td>\n",
              "      <td>647400</td>\n",
              "      <td>Illiterate</td>\n",
              "      <td>2</td>\n",
              "    </tr>\n",
              "    <tr>\n",
              "      <th>6</th>\n",
              "      <td>15000</td>\n",
              "      <td>16000</td>\n",
              "      <td>3</td>\n",
              "      <td>35000</td>\n",
              "      <td>167400</td>\n",
              "      <td>Post-Graduate</td>\n",
              "      <td>1</td>\n",
              "    </tr>\n",
              "  </tbody>\n",
              "</table>\n",
              "</div>"
            ],
            "text/plain": [
              "    Mthly_HH_Income  ...  No_of_Earning_Members\n",
              "15            25000  ...                      1\n",
              "34            46000  ...                      1\n",
              "36            50000  ...                      1\n",
              "1              6000  ...                      1\n",
              "8             19000  ...                      1\n",
              "32            45000  ...                      1\n",
              "10            20000  ...                      2\n",
              "35            47000  ...                      4\n",
              "41            65000  ...                      2\n",
              "6             15000  ...                      1\n",
              "\n",
              "[10 rows x 7 columns]"
            ]
          },
          "metadata": {
            "tags": []
          },
          "execution_count": 39
        }
      ]
    },
    {
      "cell_type": "markdown",
      "metadata": {
        "id": "H3ObsP2RFN0y"
      },
      "source": [
        "kiểu định lượng\n"
      ]
    },
    {
      "cell_type": "code",
      "metadata": {
        "colab": {
          "base_uri": "https://localhost:8080/"
        },
        "id": "5nrwokUpFJhr",
        "outputId": "ce00dc1a-ebd0-4875-937e-926f4b6e4ad3"
      },
      "source": [
        "dl= {}\n",
        "columns_dl = ['Mthly_HH_Income', 'Mthly_HH_Expense', 'Emi_or_Rent_Amt', 'Annual_HH_Income']\n",
        "for column in columns_dl:\n",
        "    print(column)\n",
        "    mo_ta = df[column].describe()\n",
        "    print(mo_ta)\n",
        "    dl[column] = df[column]\n",
        "    print('')"
      ],
      "execution_count": null,
      "outputs": [
        {
          "output_type": "stream",
          "text": [
            "Mthly_HH_Income\n",
            "count        50.000000\n",
            "mean      41558.000000\n",
            "std       26097.908979\n",
            "min        5000.000000\n",
            "25%       23550.000000\n",
            "50%       35000.000000\n",
            "75%       50375.000000\n",
            "max      100000.000000\n",
            "Name: Mthly_HH_Income, dtype: float64\n",
            "\n",
            "Mthly_HH_Expense\n",
            "count       50.000000\n",
            "mean     18818.000000\n",
            "std      12090.216824\n",
            "min       2000.000000\n",
            "25%      10000.000000\n",
            "50%      15500.000000\n",
            "75%      25000.000000\n",
            "max      50000.000000\n",
            "Name: Mthly_HH_Expense, dtype: float64\n",
            "\n",
            "Emi_or_Rent_Amt\n",
            "count       50.000000\n",
            "mean      3060.000000\n",
            "std       6241.434948\n",
            "min          0.000000\n",
            "25%          0.000000\n",
            "50%          0.000000\n",
            "75%       3500.000000\n",
            "max      35000.000000\n",
            "Name: Emi_or_Rent_Amt, dtype: float64\n",
            "\n",
            "Annual_HH_Income\n",
            "count    5.000000e+01\n",
            "mean     4.900190e+05\n",
            "std      3.201358e+05\n",
            "min      6.420000e+04\n",
            "25%      2.587500e+05\n",
            "50%      4.474200e+05\n",
            "75%      5.947200e+05\n",
            "max      1.404000e+06\n",
            "Name: Annual_HH_Income, dtype: float64\n",
            "\n"
          ],
          "name": "stdout"
        }
      ]
    },
    {
      "cell_type": "markdown",
      "metadata": {
        "id": "J34Iydu-FcrW"
      },
      "source": [
        "kiểu định tính"
      ]
    },
    {
      "cell_type": "code",
      "metadata": {
        "id": "fwY_EhazFeSA"
      },
      "source": [
        "dt = {}\n",
        "columns_dt = ['No_of_Fly_Members', 'Highest_Qualified_Member', 'No_of_Earning_Members']"
      ],
      "execution_count": null,
      "outputs": []
    },
    {
      "cell_type": "code",
      "metadata": {
        "colab": {
          "base_uri": "https://localhost:8080/"
        },
        "id": "eaFHNQJ8FmmS",
        "outputId": "8c5622a5-6601-4855-b99b-6b366b4cfb0b"
      },
      "source": [
        "for column in columns_dt:\n",
        "    print(column)\n",
        "    dt[column] = df[column]\n",
        "    print('')"
      ],
      "execution_count": null,
      "outputs": [
        {
          "output_type": "stream",
          "text": [
            "No_of_Fly_Members\n",
            "\n",
            "Highest_Qualified_Member\n",
            "\n",
            "No_of_Earning_Members\n",
            "\n"
          ],
          "name": "stdout"
        }
      ]
    },
    {
      "cell_type": "code",
      "metadata": {
        "colab": {
          "base_uri": "https://localhost:8080/"
        },
        "id": "nFuXx-NZFogE",
        "outputId": "00e0d047-82ae-4050-d7f5-744952e198ea"
      },
      "source": [
        "df['No_of_Fly_Members'].value_counts()"
      ],
      "execution_count": 53,
      "outputs": [
        {
          "output_type": "execute_result",
          "data": {
            "text/plain": [
              "4    15\n",
              "6    10\n",
              "3     9\n",
              "2     8\n",
              "5     5\n",
              "7     2\n",
              "1     1\n",
              "Name: No_of_Fly_Members, dtype: int64"
            ]
          },
          "metadata": {
            "tags": []
          },
          "execution_count": 53
        }
      ]
    },
    {
      "cell_type": "code",
      "metadata": {
        "colab": {
          "base_uri": "https://localhost:8080/"
        },
        "id": "29xJpeV9F01m",
        "outputId": "f5cb2852-ae23-48fb-9aad-9e118187cf50"
      },
      "source": [
        "df['Highest_Qualified_Member'].value_counts()"
      ],
      "execution_count": 54,
      "outputs": [
        {
          "output_type": "execute_result",
          "data": {
            "text/plain": [
              "Graduate          19\n",
              "Under-Graduate    10\n",
              "Professional      10\n",
              "Post-Graduate      6\n",
              "Illiterate         5\n",
              "Name: Highest_Qualified_Member, dtype: int64"
            ]
          },
          "metadata": {
            "tags": []
          },
          "execution_count": 54
        }
      ]
    },
    {
      "cell_type": "code",
      "metadata": {
        "colab": {
          "base_uri": "https://localhost:8080/"
        },
        "id": "IUw-u058FrdN",
        "outputId": "ec11e5ba-503e-44f1-e96b-4ffa88c5fa5f"
      },
      "source": [
        "df['No_of_Earning_Members'].value_counts()"
      ],
      "execution_count": 55,
      "outputs": [
        {
          "output_type": "execute_result",
          "data": {
            "text/plain": [
              "1    33\n",
              "2    12\n",
              "3     4\n",
              "4     1\n",
              "Name: No_of_Earning_Members, dtype: int64"
            ]
          },
          "metadata": {
            "tags": []
          },
          "execution_count": 55
        }
      ]
    },
    {
      "cell_type": "markdown",
      "metadata": {
        "id": "QhE2m8zbGB1H"
      },
      "source": [
        "Vẽ Biểu đồ"
      ]
    },
    {
      "cell_type": "code",
      "metadata": {
        "id": "3G1-wga6GCHq"
      },
      "source": [
        "data_dl = pd.DataFrame(dl)"
      ],
      "execution_count": null,
      "outputs": []
    },
    {
      "cell_type": "code",
      "metadata": {
        "id": "euj-OgqnGDmY"
      },
      "source": [
        "data_dt = pd.DataFrame(dt)"
      ],
      "execution_count": null,
      "outputs": []
    },
    {
      "cell_type": "markdown",
      "metadata": {
        "id": "pOG7NPcQGI8J"
      },
      "source": [
        "Định tính vẽ bar chart nằm ngang"
      ]
    },
    {
      "cell_type": "code",
      "metadata": {
        "colab": {
          "base_uri": "https://localhost:8080/",
          "height": 854
        },
        "id": "p3YTXgFBGJSS",
        "outputId": "05bfb6cc-d172-4b8d-eee1-118521471f0a"
      },
      "source": [
        "for column in data_dt.columns:\n",
        "    p = {}\n",
        "    so_luong = []\n",
        "    #print(data_dt[column].value_counts())\n",
        "    dem_data = data_dt[column].value_counts()\n",
        "    trinh_do = dem_data.index\n",
        "    for i in dem_data:\n",
        "        so_luong.append(i)\n",
        "    p = {'trinh_do':trinh_do, 'so_luong':so_luong}\n",
        "    data = pd.DataFrame(p)\n",
        "    plt.title(column)\n",
        "    sns.barplot(y = 'trinh_do', x= 'so_luong', data = data)\n",
        "    plt.show()"
      ],
      "execution_count": null,
      "outputs": [
        {
          "output_type": "display_data",
          "data": {
            "image/png": "[encoded data removed]",
            "text/plain": [
              "<Figure size 432x288 with 1 Axes>"
            ]
          },
          "metadata": {
            "tags": [],
            "needs_background": "light"
          }
        },
        {
          "output_type": "display_data",
          "data": {
            "image/png": "[encoded data removed]",
            "text/plain": [
              "<Figure size 432x288 with 1 Axes>"
            ]
          },
          "metadata": {
            "tags": [],
            "needs_background": "light"
          }
        },
        {
          "output_type": "display_data",
          "data": {
            "image/png": "[encoded data removed]",
            "text/plain": [
              "<Figure size 432x288 with 1 Axes>"
            ]
          },
          "metadata": {
            "tags": [],
            "needs_background": "light"
          }
        }
      ]
    },
    {
      "cell_type": "code",
      "metadata": {
        "id": "N9enc7c0GnU5"
      },
      "source": [
        "data_dt_2 = df[['No_of_Fly_Members','No_of_Earning_Members']]"
      ],
      "execution_count": null,
      "outputs": []
    },
    {
      "cell_type": "code",
      "metadata": {
        "colab": {
          "base_uri": "https://localhost:8080/",
          "height": 575
        },
        "id": "4j69EgMeGwf_",
        "outputId": "5f0488e5-e863-48e0-923a-b987c0733900"
      },
      "source": [
        "for column in data_dt_2.columns:\n",
        "    p = {}\n",
        "    so_luong = []\n",
        "    levels = []\n",
        "    #print(data_dt[column].value_counts())\n",
        "    dem_data = data_dt_2[column].value_counts()\n",
        "    levels_0 = dem_data.index\n",
        "    for level in levels_0:\n",
        "        levels.append(str(level))\n",
        "    for i in dem_data:\n",
        "        so_luong.append(i)\n",
        "    p = {'levels':levels, 'so_luong':so_luong}\n",
        "    data = pd.DataFrame(p)\n",
        "    plt.title(column)\n",
        "    sns.barplot(y = 'levels', x = 'so_luong', data = data)\n",
        "    plt.show()"
      ],
      "execution_count": null,
      "outputs": [
        {
          "output_type": "display_data",
          "data": {
            "image/png": "[encoded data removed]",
            "text/plain": [
              "<Figure size 432x288 with 1 Axes>"
            ]
          },
          "metadata": {
            "tags": [],
            "needs_background": "light"
          }
        },
        {
          "output_type": "display_data",
          "data": {
            "image/png": "[encoded data removed]",
            "text/plain": [
              "<Figure size 432x288 with 1 Axes>"
            ]
          },
          "metadata": {
            "tags": [],
            "needs_background": "light"
          }
        }
      ]
    },
    {
      "cell_type": "markdown",
      "metadata": {
        "id": "EoXf7EtcG0sj"
      },
      "source": [
        "Định lượng vẽ histogram"
      ]
    },
    {
      "cell_type": "code",
      "metadata": {
        "colab": {
          "base_uri": "https://localhost:8080/",
          "height": 1000
        },
        "id": "lRzvTQ8XGx4k",
        "outputId": "f833c247-0d98-4d9c-ca39-f7ebce629a19"
      },
      "source": [
        "for column in data_dl.columns:\n",
        "    data = data_dl[column]\n",
        "    # kiem tra data co chuan hay khong?\n",
        "    mean = np.mean(data)\n",
        "    # ddof = 1 :: hiệu chỉnh\n",
        "    std = np.std(data,ddof=1)\n",
        "    domain = np.linspace(np.min(data),np.max(data))\n",
        "    plt.plot(domain, stats.norm.pdf(domain, mean, std))\n",
        "    # density = True :: chuẩn hóa dữ liệu vè normal\n",
        "    plt.hist(data, edgecolor='black', density = True,color=\"pink\")\n",
        "    plt.title(column)\n",
        "    plt.show()"
      ],
      "execution_count": 52,
      "outputs": [
        {
          "output_type": "display_data",
          "data": {
            "image/png": "[encoded data removed]",
            "text/plain": [
              "<Figure size 432x288 with 1 Axes>"
            ]
          },
          "metadata": {
            "tags": [],
            "needs_background": "light"
          }
        },
        {
          "output_type": "display_data",
          "data": {
            "image/png": "[encoded data removed]",
            "text/plain": [
              "<Figure size 432x288 with 1 Axes>"
            ]
          },
          "metadata": {
            "tags": [],
            "needs_background": "light"
          }
        },
        {
          "output_type": "display_data",
          "data": {
            "image/png": "[encoded data removed]",
            "text/plain": [
              "<Figure size 432x288 with 1 Axes>"
            ]
          },
          "metadata": {
            "tags": [],
            "needs_background": "light"
          }
        },
        {
          "output_type": "display_data",
          "data": {
            "image/png": "[encoded data removed]",
            "text/plain": [
              "<Figure size 432x288 with 1 Axes>"
            ]
          },
          "metadata": {
            "tags": [],
            "needs_background": "light"
          }
        }
      ]
    }
  ]
}